{
  "nbformat": 4,
  "nbformat_minor": 0,
  "metadata": {
    "colab": {
      "provenance": []
    },
    "kernelspec": {
      "name": "python3",
      "display_name": "Python 3"
    },
    "language_info": {
      "name": "python"
    },
    "widgets": {
      "application/vnd.jupyter.widget-state+json": {
        "e87e718918984e64ac4ffaab03485c19": {
          "model_module": "@jupyter-widgets/controls",
          "model_name": "HBoxModel",
          "model_module_version": "1.5.0",
          "state": {
            "_dom_classes": [],
            "_model_module": "@jupyter-widgets/controls",
            "_model_module_version": "1.5.0",
            "_model_name": "HBoxModel",
            "_view_count": null,
            "_view_module": "@jupyter-widgets/controls",
            "_view_module_version": "1.5.0",
            "_view_name": "HBoxView",
            "box_style": "",
            "children": [
              "IPY_MODEL_baec5dab639e405395da0e25d946425d",
              "IPY_MODEL_29a6e5bdd74c4e4ebea36b5bbc377942",
              "IPY_MODEL_5b91c17088cf400abe7ef594181cfac6"
            ],
            "layout": "IPY_MODEL_d2051f08efcc4c75b866c6086bf5e966"
          }
        },
        "baec5dab639e405395da0e25d946425d": {
          "model_module": "@jupyter-widgets/controls",
          "model_name": "HTMLModel",
          "model_module_version": "1.5.0",
          "state": {
            "_dom_classes": [],
            "_model_module": "@jupyter-widgets/controls",
            "_model_module_version": "1.5.0",
            "_model_name": "HTMLModel",
            "_view_count": null,
            "_view_module": "@jupyter-widgets/controls",
            "_view_module_version": "1.5.0",
            "_view_name": "HTMLView",
            "description": "",
            "description_tooltip": null,
            "layout": "IPY_MODEL_f6911823c406412f994e557fe163bb0f",
            "placeholder": "​",
            "style": "IPY_MODEL_4894c2174a9f49c28acd6e1da7fa9305",
            "value": "Batches: 100%"
          }
        },
        "29a6e5bdd74c4e4ebea36b5bbc377942": {
          "model_module": "@jupyter-widgets/controls",
          "model_name": "FloatProgressModel",
          "model_module_version": "1.5.0",
          "state": {
            "_dom_classes": [],
            "_model_module": "@jupyter-widgets/controls",
            "_model_module_version": "1.5.0",
            "_model_name": "FloatProgressModel",
            "_view_count": null,
            "_view_module": "@jupyter-widgets/controls",
            "_view_module_version": "1.5.0",
            "_view_name": "ProgressView",
            "bar_style": "success",
            "description": "",
            "description_tooltip": null,
            "layout": "IPY_MODEL_b1548a8774b44686bdaf6a1561f843e2",
            "max": 34,
            "min": 0,
            "orientation": "horizontal",
            "style": "IPY_MODEL_07fafd7799c24080a9d907cf24d284df",
            "value": 34
          }
        },
        "5b91c17088cf400abe7ef594181cfac6": {
          "model_module": "@jupyter-widgets/controls",
          "model_name": "HTMLModel",
          "model_module_version": "1.5.0",
          "state": {
            "_dom_classes": [],
            "_model_module": "@jupyter-widgets/controls",
            "_model_module_version": "1.5.0",
            "_model_name": "HTMLModel",
            "_view_count": null,
            "_view_module": "@jupyter-widgets/controls",
            "_view_module_version": "1.5.0",
            "_view_name": "HTMLView",
            "description": "",
            "description_tooltip": null,
            "layout": "IPY_MODEL_2a9c482c86d04ad186e500927d3cf7a0",
            "placeholder": "​",
            "style": "IPY_MODEL_e9166c9de1e64697a86d1d6e3b0c9026",
            "value": " 34/34 [01:49&lt;00:00,  1.81s/it]"
          }
        },
        "d2051f08efcc4c75b866c6086bf5e966": {
          "model_module": "@jupyter-widgets/base",
          "model_name": "LayoutModel",
          "model_module_version": "1.2.0",
          "state": {
            "_model_module": "@jupyter-widgets/base",
            "_model_module_version": "1.2.0",
            "_model_name": "LayoutModel",
            "_view_count": null,
            "_view_module": "@jupyter-widgets/base",
            "_view_module_version": "1.2.0",
            "_view_name": "LayoutView",
            "align_content": null,
            "align_items": null,
            "align_self": null,
            "border": null,
            "bottom": null,
            "display": null,
            "flex": null,
            "flex_flow": null,
            "grid_area": null,
            "grid_auto_columns": null,
            "grid_auto_flow": null,
            "grid_auto_rows": null,
            "grid_column": null,
            "grid_gap": null,
            "grid_row": null,
            "grid_template_areas": null,
            "grid_template_columns": null,
            "grid_template_rows": null,
            "height": null,
            "justify_content": null,
            "justify_items": null,
            "left": null,
            "margin": null,
            "max_height": null,
            "max_width": null,
            "min_height": null,
            "min_width": null,
            "object_fit": null,
            "object_position": null,
            "order": null,
            "overflow": null,
            "overflow_x": null,
            "overflow_y": null,
            "padding": null,
            "right": null,
            "top": null,
            "visibility": null,
            "width": null
          }
        },
        "f6911823c406412f994e557fe163bb0f": {
          "model_module": "@jupyter-widgets/base",
          "model_name": "LayoutModel",
          "model_module_version": "1.2.0",
          "state": {
            "_model_module": "@jupyter-widgets/base",
            "_model_module_version": "1.2.0",
            "_model_name": "LayoutModel",
            "_view_count": null,
            "_view_module": "@jupyter-widgets/base",
            "_view_module_version": "1.2.0",
            "_view_name": "LayoutView",
            "align_content": null,
            "align_items": null,
            "align_self": null,
            "border": null,
            "bottom": null,
            "display": null,
            "flex": null,
            "flex_flow": null,
            "grid_area": null,
            "grid_auto_columns": null,
            "grid_auto_flow": null,
            "grid_auto_rows": null,
            "grid_column": null,
            "grid_gap": null,
            "grid_row": null,
            "grid_template_areas": null,
            "grid_template_columns": null,
            "grid_template_rows": null,
            "height": null,
            "justify_content": null,
            "justify_items": null,
            "left": null,
            "margin": null,
            "max_height": null,
            "max_width": null,
            "min_height": null,
            "min_width": null,
            "object_fit": null,
            "object_position": null,
            "order": null,
            "overflow": null,
            "overflow_x": null,
            "overflow_y": null,
            "padding": null,
            "right": null,
            "top": null,
            "visibility": null,
            "width": null
          }
        },
        "4894c2174a9f49c28acd6e1da7fa9305": {
          "model_module": "@jupyter-widgets/controls",
          "model_name": "DescriptionStyleModel",
          "model_module_version": "1.5.0",
          "state": {
            "_model_module": "@jupyter-widgets/controls",
            "_model_module_version": "1.5.0",
            "_model_name": "DescriptionStyleModel",
            "_view_count": null,
            "_view_module": "@jupyter-widgets/base",
            "_view_module_version": "1.2.0",
            "_view_name": "StyleView",
            "description_width": ""
          }
        },
        "b1548a8774b44686bdaf6a1561f843e2": {
          "model_module": "@jupyter-widgets/base",
          "model_name": "LayoutModel",
          "model_module_version": "1.2.0",
          "state": {
            "_model_module": "@jupyter-widgets/base",
            "_model_module_version": "1.2.0",
            "_model_name": "LayoutModel",
            "_view_count": null,
            "_view_module": "@jupyter-widgets/base",
            "_view_module_version": "1.2.0",
            "_view_name": "LayoutView",
            "align_content": null,
            "align_items": null,
            "align_self": null,
            "border": null,
            "bottom": null,
            "display": null,
            "flex": null,
            "flex_flow": null,
            "grid_area": null,
            "grid_auto_columns": null,
            "grid_auto_flow": null,
            "grid_auto_rows": null,
            "grid_column": null,
            "grid_gap": null,
            "grid_row": null,
            "grid_template_areas": null,
            "grid_template_columns": null,
            "grid_template_rows": null,
            "height": null,
            "justify_content": null,
            "justify_items": null,
            "left": null,
            "margin": null,
            "max_height": null,
            "max_width": null,
            "min_height": null,
            "min_width": null,
            "object_fit": null,
            "object_position": null,
            "order": null,
            "overflow": null,
            "overflow_x": null,
            "overflow_y": null,
            "padding": null,
            "right": null,
            "top": null,
            "visibility": null,
            "width": null
          }
        },
        "07fafd7799c24080a9d907cf24d284df": {
          "model_module": "@jupyter-widgets/controls",
          "model_name": "ProgressStyleModel",
          "model_module_version": "1.5.0",
          "state": {
            "_model_module": "@jupyter-widgets/controls",
            "_model_module_version": "1.5.0",
            "_model_name": "ProgressStyleModel",
            "_view_count": null,
            "_view_module": "@jupyter-widgets/base",
            "_view_module_version": "1.2.0",
            "_view_name": "StyleView",
            "bar_color": null,
            "description_width": ""
          }
        },
        "2a9c482c86d04ad186e500927d3cf7a0": {
          "model_module": "@jupyter-widgets/base",
          "model_name": "LayoutModel",
          "model_module_version": "1.2.0",
          "state": {
            "_model_module": "@jupyter-widgets/base",
            "_model_module_version": "1.2.0",
            "_model_name": "LayoutModel",
            "_view_count": null,
            "_view_module": "@jupyter-widgets/base",
            "_view_module_version": "1.2.0",
            "_view_name": "LayoutView",
            "align_content": null,
            "align_items": null,
            "align_self": null,
            "border": null,
            "bottom": null,
            "display": null,
            "flex": null,
            "flex_flow": null,
            "grid_area": null,
            "grid_auto_columns": null,
            "grid_auto_flow": null,
            "grid_auto_rows": null,
            "grid_column": null,
            "grid_gap": null,
            "grid_row": null,
            "grid_template_areas": null,
            "grid_template_columns": null,
            "grid_template_rows": null,
            "height": null,
            "justify_content": null,
            "justify_items": null,
            "left": null,
            "margin": null,
            "max_height": null,
            "max_width": null,
            "min_height": null,
            "min_width": null,
            "object_fit": null,
            "object_position": null,
            "order": null,
            "overflow": null,
            "overflow_x": null,
            "overflow_y": null,
            "padding": null,
            "right": null,
            "top": null,
            "visibility": null,
            "width": null
          }
        },
        "e9166c9de1e64697a86d1d6e3b0c9026": {
          "model_module": "@jupyter-widgets/controls",
          "model_name": "DescriptionStyleModel",
          "model_module_version": "1.5.0",
          "state": {
            "_model_module": "@jupyter-widgets/controls",
            "_model_module_version": "1.5.0",
            "_model_name": "DescriptionStyleModel",
            "_view_count": null,
            "_view_module": "@jupyter-widgets/base",
            "_view_module_version": "1.2.0",
            "_view_name": "StyleView",
            "description_width": ""
          }
        }
      }
    }
  },
  "cells": [
    {
      "cell_type": "code",
      "source": [
        "!pip install chromadb\n",
        "!pip install PyPDF2"
      ],
      "metadata": {
        "colab": {
          "base_uri": "https://localhost:8080/"
        },
        "id": "LTCnJ8I1m8rj",
        "outputId": "f9065c12-14e9-4f8d-97f1-a6c22b931584"
      },
      "execution_count": 1,
      "outputs": [
        {
          "output_type": "stream",
          "name": "stdout",
          "text": [
            "Requirement already satisfied: chromadb in /usr/local/lib/python3.11/dist-packages (1.0.7)\n",
            "Requirement already satisfied: build>=1.0.3 in /usr/local/lib/python3.11/dist-packages (from chromadb) (1.2.2.post1)\n",
            "Requirement already satisfied: pydantic>=1.9 in /usr/local/lib/python3.11/dist-packages (from chromadb) (2.11.3)\n",
            "Requirement already satisfied: chroma-hnswlib==0.7.6 in /usr/local/lib/python3.11/dist-packages (from chromadb) (0.7.6)\n",
            "Requirement already satisfied: fastapi==0.115.9 in /usr/local/lib/python3.11/dist-packages (from chromadb) (0.115.9)\n",
            "Requirement already satisfied: uvicorn>=0.18.3 in /usr/local/lib/python3.11/dist-packages (from uvicorn[standard]>=0.18.3->chromadb) (0.34.2)\n",
            "Requirement already satisfied: numpy>=1.22.5 in /usr/local/lib/python3.11/dist-packages (from chromadb) (2.0.2)\n",
            "Requirement already satisfied: posthog>=2.4.0 in /usr/local/lib/python3.11/dist-packages (from chromadb) (4.0.1)\n",
            "Requirement already satisfied: typing-extensions>=4.5.0 in /usr/local/lib/python3.11/dist-packages (from chromadb) (4.13.2)\n",
            "Requirement already satisfied: onnxruntime>=1.14.1 in /usr/local/lib/python3.11/dist-packages (from chromadb) (1.21.1)\n",
            "Requirement already satisfied: opentelemetry-api>=1.2.0 in /usr/local/lib/python3.11/dist-packages (from chromadb) (1.32.1)\n",
            "Requirement already satisfied: opentelemetry-exporter-otlp-proto-grpc>=1.2.0 in /usr/local/lib/python3.11/dist-packages (from chromadb) (1.32.1)\n",
            "Requirement already satisfied: opentelemetry-instrumentation-fastapi>=0.41b0 in /usr/local/lib/python3.11/dist-packages (from chromadb) (0.53b1)\n",
            "Requirement already satisfied: opentelemetry-sdk>=1.2.0 in /usr/local/lib/python3.11/dist-packages (from chromadb) (1.32.1)\n",
            "Requirement already satisfied: tokenizers>=0.13.2 in /usr/local/lib/python3.11/dist-packages (from chromadb) (0.21.1)\n",
            "Requirement already satisfied: pypika>=0.48.9 in /usr/local/lib/python3.11/dist-packages (from chromadb) (0.48.9)\n",
            "Requirement already satisfied: tqdm>=4.65.0 in /usr/local/lib/python3.11/dist-packages (from chromadb) (4.67.1)\n",
            "Requirement already satisfied: overrides>=7.3.1 in /usr/local/lib/python3.11/dist-packages (from chromadb) (7.7.0)\n",
            "Requirement already satisfied: importlib-resources in /usr/local/lib/python3.11/dist-packages (from chromadb) (6.5.2)\n",
            "Requirement already satisfied: grpcio>=1.58.0 in /usr/local/lib/python3.11/dist-packages (from chromadb) (1.71.0)\n",
            "Requirement already satisfied: bcrypt>=4.0.1 in /usr/local/lib/python3.11/dist-packages (from chromadb) (4.3.0)\n",
            "Requirement already satisfied: typer>=0.9.0 in /usr/local/lib/python3.11/dist-packages (from chromadb) (0.15.3)\n",
            "Requirement already satisfied: kubernetes>=28.1.0 in /usr/local/lib/python3.11/dist-packages (from chromadb) (32.0.1)\n",
            "Requirement already satisfied: tenacity>=8.2.3 in /usr/local/lib/python3.11/dist-packages (from chromadb) (9.1.2)\n",
            "Requirement already satisfied: pyyaml>=6.0.0 in /usr/local/lib/python3.11/dist-packages (from chromadb) (6.0.2)\n",
            "Requirement already satisfied: mmh3>=4.0.1 in /usr/local/lib/python3.11/dist-packages (from chromadb) (5.1.0)\n",
            "Requirement already satisfied: orjson>=3.9.12 in /usr/local/lib/python3.11/dist-packages (from chromadb) (3.10.17)\n",
            "Requirement already satisfied: httpx>=0.27.0 in /usr/local/lib/python3.11/dist-packages (from chromadb) (0.28.1)\n",
            "Requirement already satisfied: rich>=10.11.0 in /usr/local/lib/python3.11/dist-packages (from chromadb) (13.9.4)\n",
            "Requirement already satisfied: jsonschema>=4.19.0 in /usr/local/lib/python3.11/dist-packages (from chromadb) (4.23.0)\n",
            "Requirement already satisfied: starlette<0.46.0,>=0.40.0 in /usr/local/lib/python3.11/dist-packages (from fastapi==0.115.9->chromadb) (0.45.3)\n",
            "Requirement already satisfied: packaging>=19.1 in /usr/local/lib/python3.11/dist-packages (from build>=1.0.3->chromadb) (24.2)\n",
            "Requirement already satisfied: pyproject_hooks in /usr/local/lib/python3.11/dist-packages (from build>=1.0.3->chromadb) (1.2.0)\n",
            "Requirement already satisfied: anyio in /usr/local/lib/python3.11/dist-packages (from httpx>=0.27.0->chromadb) (4.9.0)\n",
            "Requirement already satisfied: certifi in /usr/local/lib/python3.11/dist-packages (from httpx>=0.27.0->chromadb) (2025.4.26)\n",
            "Requirement already satisfied: httpcore==1.* in /usr/local/lib/python3.11/dist-packages (from httpx>=0.27.0->chromadb) (1.0.9)\n",
            "Requirement already satisfied: idna in /usr/local/lib/python3.11/dist-packages (from httpx>=0.27.0->chromadb) (3.10)\n",
            "Requirement already satisfied: h11>=0.16 in /usr/local/lib/python3.11/dist-packages (from httpcore==1.*->httpx>=0.27.0->chromadb) (0.16.0)\n",
            "Requirement already satisfied: attrs>=22.2.0 in /usr/local/lib/python3.11/dist-packages (from jsonschema>=4.19.0->chromadb) (25.3.0)\n",
            "Requirement already satisfied: jsonschema-specifications>=2023.03.6 in /usr/local/lib/python3.11/dist-packages (from jsonschema>=4.19.0->chromadb) (2025.4.1)\n",
            "Requirement already satisfied: referencing>=0.28.4 in /usr/local/lib/python3.11/dist-packages (from jsonschema>=4.19.0->chromadb) (0.36.2)\n",
            "Requirement already satisfied: rpds-py>=0.7.1 in /usr/local/lib/python3.11/dist-packages (from jsonschema>=4.19.0->chromadb) (0.24.0)\n",
            "Requirement already satisfied: six>=1.9.0 in /usr/local/lib/python3.11/dist-packages (from kubernetes>=28.1.0->chromadb) (1.17.0)\n",
            "Requirement already satisfied: python-dateutil>=2.5.3 in /usr/local/lib/python3.11/dist-packages (from kubernetes>=28.1.0->chromadb) (2.9.0.post0)\n",
            "Requirement already satisfied: google-auth>=1.0.1 in /usr/local/lib/python3.11/dist-packages (from kubernetes>=28.1.0->chromadb) (2.38.0)\n",
            "Requirement already satisfied: websocket-client!=0.40.0,!=0.41.*,!=0.42.*,>=0.32.0 in /usr/local/lib/python3.11/dist-packages (from kubernetes>=28.1.0->chromadb) (1.8.0)\n",
            "Requirement already satisfied: requests in /usr/local/lib/python3.11/dist-packages (from kubernetes>=28.1.0->chromadb) (2.32.3)\n",
            "Requirement already satisfied: requests-oauthlib in /usr/local/lib/python3.11/dist-packages (from kubernetes>=28.1.0->chromadb) (2.0.0)\n",
            "Requirement already satisfied: oauthlib>=3.2.2 in /usr/local/lib/python3.11/dist-packages (from kubernetes>=28.1.0->chromadb) (3.2.2)\n",
            "Requirement already satisfied: urllib3>=1.24.2 in /usr/local/lib/python3.11/dist-packages (from kubernetes>=28.1.0->chromadb) (2.4.0)\n",
            "Requirement already satisfied: durationpy>=0.7 in /usr/local/lib/python3.11/dist-packages (from kubernetes>=28.1.0->chromadb) (0.9)\n",
            "Requirement already satisfied: coloredlogs in /usr/local/lib/python3.11/dist-packages (from onnxruntime>=1.14.1->chromadb) (15.0.1)\n",
            "Requirement already satisfied: flatbuffers in /usr/local/lib/python3.11/dist-packages (from onnxruntime>=1.14.1->chromadb) (25.2.10)\n",
            "Requirement already satisfied: protobuf in /usr/local/lib/python3.11/dist-packages (from onnxruntime>=1.14.1->chromadb) (5.29.4)\n",
            "Requirement already satisfied: sympy in /usr/local/lib/python3.11/dist-packages (from onnxruntime>=1.14.1->chromadb) (1.13.1)\n",
            "Requirement already satisfied: deprecated>=1.2.6 in /usr/local/lib/python3.11/dist-packages (from opentelemetry-api>=1.2.0->chromadb) (1.2.18)\n",
            "Requirement already satisfied: importlib-metadata<8.7.0,>=6.0 in /usr/local/lib/python3.11/dist-packages (from opentelemetry-api>=1.2.0->chromadb) (8.6.1)\n",
            "Requirement already satisfied: googleapis-common-protos~=1.52 in /usr/local/lib/python3.11/dist-packages (from opentelemetry-exporter-otlp-proto-grpc>=1.2.0->chromadb) (1.70.0)\n",
            "Requirement already satisfied: opentelemetry-exporter-otlp-proto-common==1.32.1 in /usr/local/lib/python3.11/dist-packages (from opentelemetry-exporter-otlp-proto-grpc>=1.2.0->chromadb) (1.32.1)\n",
            "Requirement already satisfied: opentelemetry-proto==1.32.1 in /usr/local/lib/python3.11/dist-packages (from opentelemetry-exporter-otlp-proto-grpc>=1.2.0->chromadb) (1.32.1)\n",
            "Requirement already satisfied: opentelemetry-instrumentation-asgi==0.53b1 in /usr/local/lib/python3.11/dist-packages (from opentelemetry-instrumentation-fastapi>=0.41b0->chromadb) (0.53b1)\n",
            "Requirement already satisfied: opentelemetry-instrumentation==0.53b1 in /usr/local/lib/python3.11/dist-packages (from opentelemetry-instrumentation-fastapi>=0.41b0->chromadb) (0.53b1)\n",
            "Requirement already satisfied: opentelemetry-semantic-conventions==0.53b1 in /usr/local/lib/python3.11/dist-packages (from opentelemetry-instrumentation-fastapi>=0.41b0->chromadb) (0.53b1)\n",
            "Requirement already satisfied: opentelemetry-util-http==0.53b1 in /usr/local/lib/python3.11/dist-packages (from opentelemetry-instrumentation-fastapi>=0.41b0->chromadb) (0.53b1)\n",
            "Requirement already satisfied: wrapt<2.0.0,>=1.0.0 in /usr/local/lib/python3.11/dist-packages (from opentelemetry-instrumentation==0.53b1->opentelemetry-instrumentation-fastapi>=0.41b0->chromadb) (1.17.2)\n",
            "Requirement already satisfied: asgiref~=3.0 in /usr/local/lib/python3.11/dist-packages (from opentelemetry-instrumentation-asgi==0.53b1->opentelemetry-instrumentation-fastapi>=0.41b0->chromadb) (3.8.1)\n",
            "Requirement already satisfied: backoff>=1.10.0 in /usr/local/lib/python3.11/dist-packages (from posthog>=2.4.0->chromadb) (2.2.1)\n",
            "Requirement already satisfied: distro>=1.5.0 in /usr/local/lib/python3.11/dist-packages (from posthog>=2.4.0->chromadb) (1.9.0)\n",
            "Requirement already satisfied: annotated-types>=0.6.0 in /usr/local/lib/python3.11/dist-packages (from pydantic>=1.9->chromadb) (0.7.0)\n",
            "Requirement already satisfied: pydantic-core==2.33.1 in /usr/local/lib/python3.11/dist-packages (from pydantic>=1.9->chromadb) (2.33.1)\n",
            "Requirement already satisfied: typing-inspection>=0.4.0 in /usr/local/lib/python3.11/dist-packages (from pydantic>=1.9->chromadb) (0.4.0)\n",
            "Requirement already satisfied: markdown-it-py>=2.2.0 in /usr/local/lib/python3.11/dist-packages (from rich>=10.11.0->chromadb) (3.0.0)\n",
            "Requirement already satisfied: pygments<3.0.0,>=2.13.0 in /usr/local/lib/python3.11/dist-packages (from rich>=10.11.0->chromadb) (2.19.1)\n",
            "Requirement already satisfied: huggingface-hub<1.0,>=0.16.4 in /usr/local/lib/python3.11/dist-packages (from tokenizers>=0.13.2->chromadb) (0.30.2)\n",
            "Requirement already satisfied: click>=8.0.0 in /usr/local/lib/python3.11/dist-packages (from typer>=0.9.0->chromadb) (8.1.8)\n",
            "Requirement already satisfied: shellingham>=1.3.0 in /usr/local/lib/python3.11/dist-packages (from typer>=0.9.0->chromadb) (1.5.4)\n",
            "Requirement already satisfied: httptools>=0.6.3 in /usr/local/lib/python3.11/dist-packages (from uvicorn[standard]>=0.18.3->chromadb) (0.6.4)\n",
            "Requirement already satisfied: python-dotenv>=0.13 in /usr/local/lib/python3.11/dist-packages (from uvicorn[standard]>=0.18.3->chromadb) (1.1.0)\n",
            "Requirement already satisfied: uvloop!=0.15.0,!=0.15.1,>=0.14.0 in /usr/local/lib/python3.11/dist-packages (from uvicorn[standard]>=0.18.3->chromadb) (0.21.0)\n",
            "Requirement already satisfied: watchfiles>=0.13 in /usr/local/lib/python3.11/dist-packages (from uvicorn[standard]>=0.18.3->chromadb) (1.0.5)\n",
            "Requirement already satisfied: websockets>=10.4 in /usr/local/lib/python3.11/dist-packages (from uvicorn[standard]>=0.18.3->chromadb) (15.0.1)\n",
            "Requirement already satisfied: cachetools<6.0,>=2.0.0 in /usr/local/lib/python3.11/dist-packages (from google-auth>=1.0.1->kubernetes>=28.1.0->chromadb) (5.5.2)\n",
            "Requirement already satisfied: pyasn1-modules>=0.2.1 in /usr/local/lib/python3.11/dist-packages (from google-auth>=1.0.1->kubernetes>=28.1.0->chromadb) (0.4.2)\n",
            "Requirement already satisfied: rsa<5,>=3.1.4 in /usr/local/lib/python3.11/dist-packages (from google-auth>=1.0.1->kubernetes>=28.1.0->chromadb) (4.9.1)\n",
            "Requirement already satisfied: filelock in /usr/local/lib/python3.11/dist-packages (from huggingface-hub<1.0,>=0.16.4->tokenizers>=0.13.2->chromadb) (3.18.0)\n",
            "Requirement already satisfied: fsspec>=2023.5.0 in /usr/local/lib/python3.11/dist-packages (from huggingface-hub<1.0,>=0.16.4->tokenizers>=0.13.2->chromadb) (2025.3.2)\n",
            "Requirement already satisfied: zipp>=3.20 in /usr/local/lib/python3.11/dist-packages (from importlib-metadata<8.7.0,>=6.0->opentelemetry-api>=1.2.0->chromadb) (3.21.0)\n",
            "Requirement already satisfied: mdurl~=0.1 in /usr/local/lib/python3.11/dist-packages (from markdown-it-py>=2.2.0->rich>=10.11.0->chromadb) (0.1.2)\n",
            "Requirement already satisfied: charset-normalizer<4,>=2 in /usr/local/lib/python3.11/dist-packages (from requests->kubernetes>=28.1.0->chromadb) (3.4.1)\n",
            "Requirement already satisfied: sniffio>=1.1 in /usr/local/lib/python3.11/dist-packages (from anyio->httpx>=0.27.0->chromadb) (1.3.1)\n",
            "Requirement already satisfied: humanfriendly>=9.1 in /usr/local/lib/python3.11/dist-packages (from coloredlogs->onnxruntime>=1.14.1->chromadb) (10.0)\n",
            "Requirement already satisfied: mpmath<1.4,>=1.1.0 in /usr/local/lib/python3.11/dist-packages (from sympy->onnxruntime>=1.14.1->chromadb) (1.3.0)\n",
            "Requirement already satisfied: pyasn1<0.7.0,>=0.6.1 in /usr/local/lib/python3.11/dist-packages (from pyasn1-modules>=0.2.1->google-auth>=1.0.1->kubernetes>=28.1.0->chromadb) (0.6.1)\n",
            "Requirement already satisfied: PyPDF2 in /usr/local/lib/python3.11/dist-packages (3.0.1)\n"
          ]
        }
      ]
    },
    {
      "cell_type": "code",
      "source": [
        "import os\n",
        "import pickle\n",
        "import numpy as np\n",
        "import requests\n",
        "import json\n",
        "import time\n",
        "from sentence_transformers import SentenceTransformer\n",
        "import chromadb\n",
        "from chromadb.utils import embedding_functions\n",
        "import pandas as pd\n",
        "import random\n",
        "import csv\n",
        "import re\n",
        "from bs4 import BeautifulSoup\n",
        "from urllib.parse import urlparse, urljoin\n",
        "from tqdm import tqdm\n",
        "import PyPDF2\n",
        "import io"
      ],
      "metadata": {
        "id": "7-SrGzyxmvES"
      },
      "execution_count": 2,
      "outputs": []
    },
    {
      "cell_type": "markdown",
      "source": [
        "# Phase 1: Choose a Domain and Use Case"
      ],
      "metadata": {
        "id": "KRwoGL-3Yma2"
      }
    },
    {
      "cell_type": "code",
      "execution_count": 3,
      "metadata": {
        "colab": {
          "base_uri": "https://localhost:8080/"
        },
        "id": "8YwS6WO3mPl5",
        "outputId": "d6ac9864-e566-4afa-ca38-f46c476f6d4b"
      },
      "outputs": [
        {
          "output_type": "stream",
          "name": "stdout",
          "text": [
            "Domain: Python Programming Education for Children\n",
            "Target Audience: Children aged 8-12\n",
            "Use Case: A child-friendly programming assistant that explains Python concepts in simple terms\n",
            "\n",
            "Value Proposition:\n",
            "\n",
            "        This project creates a child-friendly Python programming assistant that explains coding concepts \n",
            "        in simple, accessible ways for young learners aged 8-12. Programming education for children is \n",
            "        increasingly important as digital literacy becomes essential, yet many resources use technical \n",
            "        jargon that overwhelms young learners.\n",
            "        \n",
            "        Our chatbot transforms complex programming concepts into age-appropriate explanations with \n",
            "        relatable examples and encouraging language. It helps children understand fundamentals like \n",
            "        variables, loops, and functions through analogies to everyday experiences. By making learning \n",
            "        enjoyable and building confidence, this tool supports early coding education and helps develop \n",
            "        computational thinking skills critical for future academic and career success.\n",
            "        \n"
          ]
        }
      ],
      "source": [
        "def define_domain_and_use_case():\n",
        "    \"\"\"\n",
        "    Define the domain and use case for the RAG chatbot.\n",
        "\n",
        "    Returns:\n",
        "        dict: Domain information and use case description\n",
        "    \"\"\"\n",
        "    domain_info = {\n",
        "        \"domain\": \"Python Programming Education for Children\",\n",
        "        \"target_audience\": \"Children aged 8-12\",\n",
        "        \"use_case\": \"A child-friendly programming assistant that explains Python concepts in simple terms\",\n",
        "        \"value_proposition\": \"\"\"\n",
        "        This project creates a child-friendly Python programming assistant that explains coding concepts\n",
        "        in simple, accessible ways for young learners aged 8-12. Programming education for children is\n",
        "        increasingly important as digital literacy becomes essential, yet many resources use technical\n",
        "        jargon that overwhelms young learners.\n",
        "\n",
        "        Our chatbot transforms complex programming concepts into age-appropriate explanations with\n",
        "        relatable examples and encouraging language. It helps children understand fundamentals like\n",
        "        variables, loops, and functions through analogies to everyday experiences. By making learning\n",
        "        enjoyable and building confidence, this tool supports early coding education and helps develop\n",
        "        computational thinking skills critical for future academic and career success.\n",
        "        \"\"\"\n",
        "    }\n",
        "\n",
        "    print(f\"Domain: {domain_info['domain']}\")\n",
        "    print(f\"Target Audience: {domain_info['target_audience']}\")\n",
        "    print(f\"Use Case: {domain_info['use_case']}\")\n",
        "    print(\"\\nValue Proposition:\")\n",
        "    print(domain_info['value_proposition'])\n",
        "\n",
        "    return domain_info\n",
        "\n",
        "# Execute Phase 1\n",
        "domain_info = define_domain_and_use_case()"
      ]
    },
    {
      "cell_type": "markdown",
      "source": [
        "# Phase 2: Collect Data with Web Scraping\n"
      ],
      "metadata": {
        "id": "spwVue5mYp49"
      }
    },
    {
      "cell_type": "code",
      "source": [
        "def collect_and_scrape_data(seed_urls, pdf_urls=None, output_dir=\"web_scraped_data\", min_words=20000):\n",
        "    \"\"\"\n",
        "    Collect data from web sources and organize it for the RAG system.\n",
        "\n",
        "    Args:\n",
        "        seed_urls (list): List of URLs to scrape\n",
        "        pdf_urls (list): List of PDF URLs to scrape\n",
        "        output_dir (str): Directory to save output files\n",
        "        min_words (int): Minimum word count to collect\n",
        "\n",
        "    Returns:\n",
        "        list: All scraped data as a list of dictionaries\n",
        "    \"\"\"\n",
        "    # Create directory\n",
        "    os.makedirs(output_dir, exist_ok=True)\n",
        "\n",
        "    # Helper functions for cleaning and extraction\n",
        "    def clean_text(text):\n",
        "        text = ' '.join(text.split())\n",
        "        text = re.sub(r'\\s+', ' ', text)\n",
        "        return text\n",
        "\n",
        "    def extract_pdf_text(pdf_content):\n",
        "        try:\n",
        "            pdf_file = io.BytesIO(pdf_content)\n",
        "            pdf_reader = PyPDF2.PdfReader(pdf_file)\n",
        "            text = \"\"\n",
        "            for page in pdf_reader.pages:\n",
        "                page_text = page.extract_text() or \"\"\n",
        "                text += page_text + \"\\n\\n\"\n",
        "            return clean_text(text)\n",
        "        except Exception as e:\n",
        "            print(f\"Error extracting PDF text: {str(e)}\")\n",
        "            return \"\"\n",
        "\n",
        "    def is_pdf_url(url):\n",
        "        return url.lower().endswith('.pdf') or '/pdf/' in url.lower()\n",
        "\n",
        "    def scrape_url(url, min_paragraph_length=50):\n",
        "        try:\n",
        "            time.sleep(random.uniform(1, 3))  # Polite delay\n",
        "            headers = {\n",
        "                'User-Agent': 'Mozilla/5.0 (Windows NT 10.0; Win64; x64)',\n",
        "                'Accept': '*/*'\n",
        "            }\n",
        "            print(f\"Scraping: {url}\")\n",
        "            response = requests.get(url, headers=headers, timeout=15)\n",
        "            response.raise_for_status()\n",
        "\n",
        "            # Handle PDFs\n",
        "            if is_pdf_url(url) or 'application/pdf' in response.headers.get('Content-Type', ''):\n",
        "                print(f\"Processing PDF: {url}\")\n",
        "                content = extract_pdf_text(response.content)\n",
        "                title = os.path.basename(url) or \"PDF Document\"\n",
        "                word_count = len(content.split())\n",
        "                return {'url': url, 'title': title, 'content': content,\n",
        "                        'word_count': word_count, 'status': 'success', 'type': 'pdf'}\n",
        "\n",
        "            # Handle HTML\n",
        "            soup = BeautifulSoup(response.content, 'html.parser')\n",
        "            title = soup.title.string if soup.title else \"No Title\"\n",
        "            paragraphs = []\n",
        "            for p in soup.find_all(['p', 'article', 'section', 'div.content', 'div.main']):\n",
        "                text = p.get_text().strip()\n",
        "                if len(text) >= min_paragraph_length:\n",
        "                    paragraphs.append(clean_text(text))\n",
        "            content = '\\n\\n'.join(paragraphs)\n",
        "            word_count = len(content.split())\n",
        "            return {'url': url, 'title': title, 'content': content,\n",
        "                    'word_count': word_count, 'status': 'success', 'type': 'html'}\n",
        "\n",
        "        except Exception as e:\n",
        "            print(f\"Error scraping {url}: {str(e)}\")\n",
        "            return {'url': url, 'title': '', 'content': '',\n",
        "                    'word_count': 0, 'status': f'error: {str(e)}', 'type': 'unknown'}\n",
        "\n",
        "    def find_pdf_links(url, html_content):\n",
        "        pdf_links = []\n",
        "        try:\n",
        "            soup = BeautifulSoup(html_content, 'html.parser')\n",
        "            for a_tag in soup.find_all('a', href=True):\n",
        "                href = a_tag['href']\n",
        "                if href.lower().endswith('.pdf'):\n",
        "                    if not href.startswith(('http://', 'https://')):\n",
        "                        base_url = url.rstrip('/')\n",
        "                        if href.startswith('/'):\n",
        "                            href = f\"{'/'.join(base_url.split('/')[:3])}{href}\"\n",
        "                        else:\n",
        "                            href = f\"{base_url}/{href}\"\n",
        "                    pdf_links.append(href)\n",
        "        except Exception as e:\n",
        "            print(f\"Error finding PDF links: {str(e)}\")\n",
        "        return pdf_links\n",
        "\n",
        "    # Main scraping logic\n",
        "    if pdf_urls is None:\n",
        "        pdf_urls = []\n",
        "\n",
        "    all_urls = seed_urls + pdf_urls\n",
        "    all_scraped_data = []\n",
        "    total_word_count = 0\n",
        "    pdf_count = 0\n",
        "\n",
        "    # Scrape all URLs\n",
        "    for url in tqdm(all_urls, desc=\"Scraping URLs\"):\n",
        "        result = scrape_url(url)\n",
        "        all_scraped_data.append(result)\n",
        "\n",
        "        # Count PDF if successful\n",
        "        if result['status'] == 'success' and result['type'] == 'pdf':\n",
        "            pdf_count += 1\n",
        "\n",
        "        # Look for PDF links in HTML pages\n",
        "        if result['status'] == 'success' and result['type'] == 'html':\n",
        "            try:\n",
        "                headers = {'User-Agent': 'Mozilla/5.0'}\n",
        "                response = requests.get(url, headers=headers, timeout=10)\n",
        "                pdf_links = find_pdf_links(url, response.content)\n",
        "                for pdf_url in pdf_links:\n",
        "                    if pdf_url not in [item['url'] for item in all_scraped_data]:\n",
        "                        print(f\"Found PDF link: {pdf_url}\")\n",
        "                        pdf_result = scrape_url(pdf_url)\n",
        "                        all_scraped_data.append(pdf_result)\n",
        "                        if pdf_result['status'] == 'success' and pdf_result['type'] == 'pdf':\n",
        "                            pdf_count += 1\n",
        "            except Exception as e:\n",
        "                print(f\"Error processing PDF links from {url}: {str(e)}\")\n",
        "\n",
        "        # Update word count\n",
        "        if result['status'] == 'success':\n",
        "            total_word_count += result['word_count']\n",
        "\n",
        "    # Save results to files\n",
        "    for result in all_scraped_data:\n",
        "        if result['status'] == 'success':\n",
        "            domain = urlparse(result['url']).netloc\n",
        "            file_type = \"pdf\" if result['type'] == 'pdf' else \"html\"\n",
        "            filename = f\"{domain.replace('.', '_')}_{hash(result['url']) % 10000}.{file_type}.txt\"\n",
        "            filepath = os.path.join(output_dir, filename)\n",
        "\n",
        "            with open(filepath, 'w', encoding='utf-8') as f:\n",
        "                f.write(f\"URL: {result['url']}\\n\")\n",
        "                f.write(f\"Title: {result['title']}\\n\")\n",
        "                f.write(f\"Type: {result['type']}\\n\")\n",
        "                f.write(f\"Word Count: {result['word_count']}\\n\\n\")\n",
        "                f.write(result['content'])\n",
        "\n",
        "    # Save overview to CSV\n",
        "    csv_file = os.path.join(output_dir, \"all_scraped_content.csv\")\n",
        "    with open(csv_file, 'w', encoding='utf-8', newline='') as f:\n",
        "        writer = csv.writer(f)\n",
        "        writer.writerow(['url', 'title', 'content', 'word_count', 'status', 'type'])\n",
        "        for item in all_scraped_data:\n",
        "            truncated = item['content'][:1000] + '...' if len(item['content']) > 1000 else item['content']\n",
        "            writer.writerow([item['url'], item['title'], truncated, item['word_count'], item['status'], item.get('type', 'unknown')])\n",
        "\n",
        "    # Save all content to a single file\n",
        "    with open(os.path.join(output_dir, \"all_content.txt\"), 'w', encoding='utf-8') as f:\n",
        "        for item in all_scraped_data:\n",
        "            if item['status'] == 'success':\n",
        "                f.write(f\"--- {item['title']} ({item.get('type', 'unknown')}) ---\\n\\n\")\n",
        "                f.write(item['content'])\n",
        "                f.write(\"\\n\\n\" + \"=\"*80 + \"\\n\\n\")\n",
        "\n",
        "    # Print statistics\n",
        "    successful_scrapes = sum(1 for item in all_scraped_data if item['status'] == 'success')\n",
        "    failed_scrapes = sum(1 for item in all_scraped_data if item['status'] != 'success')\n",
        "    html_count = sum(1 for item in all_scraped_data if item.get('type') == 'html' and item['status'] == 'success')\n",
        "\n",
        "    print(f\"\\nWeb Scraping Statistics:\")\n",
        "    print(f\"Total URLs scraped: {len(all_scraped_data)}\")\n",
        "    print(f\"Successful scrapes: {successful_scrapes}\")\n",
        "    print(f\"Failed scrapes: {failed_scrapes}\")\n",
        "    print(f\"HTML pages: {html_count}\")\n",
        "    print(f\"PDF documents: {pdf_count}\")\n",
        "    print(f\"Total words scraped: {total_word_count}\")\n",
        "\n",
        "    # Check if we have enough content\n",
        "    if total_word_count < min_words:\n",
        "        print(f\"Warning: Only collected {total_word_count} words, which is less than the target of {min_words}\")\n",
        "\n",
        "    return all_scraped_data\n",
        "\n",
        "# Define seed URLs\n",
        "seed_urls = [\n",
        "    \"https://www.programiz.com/python-programming/variables-constants-literals\",\n",
        "    \"https://www.programiz.com/python-programming/numbers\",\n",
        "    \"https://www.programiz.com/python-programming/if-elif-else\",\n",
        "    \"https://www.programiz.com/python-programming/for-loop\"\n",
        "]\n",
        "\n",
        "pdf_seed_urls = [\n",
        "    \"https://bugs.python.org/file47781/Tutorial_EDIT.pdf\"\n",
        "]\n",
        "\n",
        "# Execute Phase 2\n",
        "all_scraped_data = collect_and_scrape_data(seed_urls, pdf_seed_urls, \"web_scraped_data__\")"
      ],
      "metadata": {
        "colab": {
          "base_uri": "https://localhost:8080/"
        },
        "id": "Roe7FI2emam5",
        "outputId": "843276c0-6400-4a4d-b7c7-27b8bc69ee19"
      },
      "execution_count": 4,
      "outputs": [
        {
          "output_type": "stream",
          "name": "stderr",
          "text": [
            "\rScraping URLs:   0%|          | 0/5 [00:00<?, ?it/s]"
          ]
        },
        {
          "output_type": "stream",
          "name": "stdout",
          "text": [
            "Scraping: https://www.programiz.com/python-programming/variables-constants-literals\n"
          ]
        },
        {
          "output_type": "stream",
          "name": "stderr",
          "text": [
            "\rScraping URLs:  20%|██        | 1/5 [00:03<00:13,  3.32s/it]"
          ]
        },
        {
          "output_type": "stream",
          "name": "stdout",
          "text": [
            "Scraping: https://www.programiz.com/python-programming/numbers\n"
          ]
        },
        {
          "output_type": "stream",
          "name": "stderr",
          "text": [
            "\rScraping URLs:  40%|████      | 2/5 [00:06<00:09,  3.02s/it]"
          ]
        },
        {
          "output_type": "stream",
          "name": "stdout",
          "text": [
            "Scraping: https://www.programiz.com/python-programming/if-elif-else\n"
          ]
        },
        {
          "output_type": "stream",
          "name": "stderr",
          "text": [
            "\rScraping URLs:  60%|██████    | 3/5 [00:08<00:05,  2.75s/it]"
          ]
        },
        {
          "output_type": "stream",
          "name": "stdout",
          "text": [
            "Scraping: https://www.programiz.com/python-programming/for-loop\n"
          ]
        },
        {
          "output_type": "stream",
          "name": "stderr",
          "text": [
            "\rScraping URLs:  80%|████████  | 4/5 [00:13<00:03,  3.46s/it]"
          ]
        },
        {
          "output_type": "stream",
          "name": "stdout",
          "text": [
            "Scraping: https://bugs.python.org/file47781/Tutorial_EDIT.pdf\n",
            "Processing PDF: https://bugs.python.org/file47781/Tutorial_EDIT.pdf\n"
          ]
        },
        {
          "output_type": "stream",
          "name": "stderr",
          "text": [
            "Scraping URLs: 100%|██████████| 5/5 [00:18<00:00,  3.77s/it]"
          ]
        },
        {
          "output_type": "stream",
          "name": "stdout",
          "text": [
            "\n",
            "Web Scraping Statistics:\n",
            "Total URLs scraped: 5\n",
            "Successful scrapes: 5\n",
            "Failed scrapes: 0\n",
            "HTML pages: 4\n",
            "PDF documents: 1\n",
            "Total words scraped: 50726\n"
          ]
        },
        {
          "output_type": "stream",
          "name": "stderr",
          "text": [
            "\n"
          ]
        }
      ]
    },
    {
      "cell_type": "markdown",
      "source": [
        "# Phase 3: Preprocess and Chunk the Text\n"
      ],
      "metadata": {
        "id": "IlwXLlcTYwUs"
      }
    },
    {
      "cell_type": "code",
      "source": [
        "def preprocess_and_chunk_text(documents, chunk_size=500, chunk_overlap=100, min_chunk_size=100):\n",
        "    \"\"\"\n",
        "    Process and split documents into overlapping chunks for better retrieval.\n",
        "\n",
        "    Args:\n",
        "        documents (list): List of document dictionaries\n",
        "        chunk_size (int): Target size of each chunk\n",
        "        chunk_overlap (int): Overlap between chunks\n",
        "        min_chunk_size (int): Minimum acceptable chunk size\n",
        "\n",
        "    Returns:\n",
        "        list: Processed chunks with metadata\n",
        "    \"\"\"\n",
        "\n",
        "    def clean_text(text):\n",
        "        \"\"\"Remove extra whitespace and normalize text\"\"\"\n",
        "        text = re.sub(r'\\s+', ' ', text).strip()\n",
        "        text = re.sub(r'\\n+', '\\n', text)\n",
        "        return text\n",
        "\n",
        "    def recursive_text_splitter(text, chunk_size=500, chunk_overlap=100):\n",
        "        \"\"\"Split text into chunks using a hierarchical approach with multiple separators\"\"\"\n",
        "        separators = [\"\\n\\n\", \"\\n\", \". \", \", \", \" \", \"\"]\n",
        "\n",
        "        def _split(text, sep):\n",
        "            \"\"\"Split text on a specific separator\"\"\"\n",
        "            if sep == \"\":\n",
        "                return [text[i:i+chunk_size] for i in range(0, len(text), chunk_size - chunk_overlap)]\n",
        "\n",
        "            chunks, cur_chunk, cur_len = [], [], 0\n",
        "            for part in text.split(sep):\n",
        "                part = (sep + part) if cur_chunk else part\n",
        "                if cur_len + len(part) > chunk_size and cur_chunk:\n",
        "                    joined = \"\".join(cur_chunk)\n",
        "                    chunks.append(joined)\n",
        "                    overlap = joined[-chunk_overlap:] if chunk_overlap < len(joined) else joined\n",
        "                    cur_chunk = [overlap, part]\n",
        "                    cur_len = len(overlap) + len(part)\n",
        "                else:\n",
        "                    cur_chunk.append(part)\n",
        "                    cur_len += len(part)\n",
        "            if cur_chunk:\n",
        "                chunks.append(\"\".join(cur_chunk))\n",
        "            return chunks\n",
        "\n",
        "        def _recursive(text, idx=0):\n",
        "            \"\"\"Recursively try different separators\"\"\"\n",
        "            if len(text) <= chunk_size or idx >= len(separators):\n",
        "                return [text]\n",
        "            split_chunks = _split(text, separators[idx])\n",
        "            result = []\n",
        "            for chunk in split_chunks:\n",
        "                result.extend(_recursive(chunk, idx + 1) if len(chunk) > chunk_size else [chunk])\n",
        "            return result\n",
        "\n",
        "        return _recursive(text)\n",
        "\n",
        "    # Process each document\n",
        "    chunked_documents = []\n",
        "    chunk_id_counter = 0\n",
        "\n",
        "    for doc in tqdm(documents, desc=\"Chunking documents\"):\n",
        "        if doc.get('status') != 'success' or not doc.get('content'):\n",
        "            continue\n",
        "\n",
        "        # Clean the content\n",
        "        cleaned_content = clean_text(doc['content'])\n",
        "\n",
        "        # Split into chunks\n",
        "        chunks = recursive_text_splitter(cleaned_content, chunk_size, chunk_overlap)\n",
        "\n",
        "        # Add metadata to each chunk\n",
        "        for chunk_text in chunks:\n",
        "            if len(chunk_text) < min_chunk_size:\n",
        "                continue  # Skip very small chunks\n",
        "\n",
        "            chunked_documents.append({\n",
        "                'content': chunk_text,\n",
        "                'chunk_id': chunk_id_counter,\n",
        "                'source_doc_id': doc.get('id', 'unknown'),\n",
        "                'url': doc.get('url', ''),\n",
        "                'title': doc.get('title', 'Untitled'),\n",
        "                'doc_type': doc.get('type', 'unknown'),\n",
        "                'word_count': len(chunk_text.split())\n",
        "            })\n",
        "            chunk_id_counter += 1\n",
        "\n",
        "    # Summary statistics\n",
        "    print(f\"Original documents: {len([d for d in documents if d.get('status') == 'success'])}\")\n",
        "    print(f\"After chunking: {len(chunked_documents)} chunks\")\n",
        "    print(f\"Average chunk size: {sum(len(c['content'].split()) for c in chunked_documents) / len(chunked_documents):.1f} words\")\n",
        "\n",
        "    # Save chunks to file\n",
        "    with open(\"web_scraped_data__/chunked_documents.json\", 'w', encoding='utf-8') as f:\n",
        "        json.dump(chunked_documents, f, indent=2)\n",
        "\n",
        "    return chunked_documents\n",
        "\n",
        "# Execute Phase 3\n",
        "chunked_data = preprocess_and_chunk_text(all_scraped_data)"
      ],
      "metadata": {
        "colab": {
          "base_uri": "https://localhost:8080/"
        },
        "id": "4_tJAJAknSE-",
        "outputId": "4e492c9c-b7bd-48f9-af14-88833bc54417"
      },
      "execution_count": 5,
      "outputs": [
        {
          "output_type": "stream",
          "name": "stderr",
          "text": [
            "Chunking documents: 100%|██████████| 5/5 [00:00<00:00, 126.33it/s]"
          ]
        },
        {
          "output_type": "stream",
          "name": "stdout",
          "text": [
            "Original documents: 5\n",
            "After chunking: 1059 chunks\n",
            "Average chunk size: 64.1 words\n"
          ]
        },
        {
          "output_type": "stream",
          "name": "stderr",
          "text": [
            "\n"
          ]
        }
      ]
    },
    {
      "cell_type": "markdown",
      "source": [
        "# Phase 4: Embed the Chunks"
      ],
      "metadata": {
        "id": "MXg-KYNlY4vo"
      }
    },
    {
      "cell_type": "code",
      "source": [
        "def embed_chunks(chunks, model_name=\"all-MiniLM-L6-v2\", batch_size=32, cache_file=None):\n",
        "    \"\"\"\n",
        "    Convert text chunks to vector embeddings.\n",
        "\n",
        "    Args:\n",
        "        chunks (list): List of document chunks\n",
        "        model_name (str): Name of the sentence transformer model\n",
        "        batch_size (int): Batch size for embedding\n",
        "        cache_file (str): Path to save/load embeddings cache\n",
        "\n",
        "    Returns:\n",
        "        tuple: (chunks with embeddings, embedding model)\n",
        "    \"\"\"\n",
        "    # Initialize embedding model\n",
        "    print(f\"Loading embedding model: {model_name}\")\n",
        "    model = SentenceTransformer(model_name)\n",
        "\n",
        "    # Try to load cached embeddings\n",
        "    if cache_file and os.path.exists(cache_file):\n",
        "        try:\n",
        "            print(f\"Loading cached embeddings from {cache_file}\")\n",
        "            with open(cache_file, 'rb') as f:\n",
        "                cached_data = pickle.load(f)\n",
        "\n",
        "            # Check if cache matches current chunks\n",
        "            if len(cached_data) == len(chunks) and all(c.get('chunk_id') == cached_data[i].get('chunk_id')\n",
        "                                                      for i, c in enumerate(chunks)):\n",
        "                print(\"Using cached embeddings\")\n",
        "                return cached_data, model\n",
        "            else:\n",
        "                print(\"Cache doesn't match current chunks, recalculating embeddings\")\n",
        "        except Exception as e:\n",
        "            print(f\"Error loading cache: {e}. Recalculating embeddings.\")\n",
        "\n",
        "    # Extract texts for embedding\n",
        "    texts = [chunk['content'] for chunk in chunks]\n",
        "\n",
        "    # Compute embeddings\n",
        "    print(f\"Computing embeddings for {len(texts)} chunks...\")\n",
        "    embeddings = model.encode(texts, batch_size=batch_size, show_progress_bar=True)\n",
        "\n",
        "    # Add embeddings to chunks\n",
        "    for i, chunk in enumerate(chunks):\n",
        "        chunk['embedding'] = embeddings[i].tolist() # Convert numpy array to list\n",
        "\n",
        "    # Save cache if requested\n",
        "    if cache_file:\n",
        "        print(f\"Saving embeddings to cache: {cache_file}\")\n",
        "        os.makedirs(os.path.dirname(cache_file), exist_ok=True)\n",
        "\n",
        "        # Fix: Pickle might struggle with complex objects within the 'chunks' list.\n",
        "        # It's safer to create a simplified representation for caching.\n",
        "        simplified_chunks = [{k: v for k, v in chunk.items() if k != 'embedding'} for chunk in chunks] # Remove embeddings for pickle\n",
        "\n",
        "        with open(cache_file, 'wb') as f:\n",
        "            pickle.dump(simplified_chunks, f, protocol=pickle.HIGHEST_PROTOCOL)\n",
        "\n",
        "    print(f\"Computed {len(embeddings)} embeddings with dimension {embeddings[0].shape[0]}\")\n",
        "    return chunks, model\n",
        "chunks_with_embeddings, model = embed_chunks(chunked_data)\n"
      ],
      "metadata": {
        "colab": {
          "base_uri": "https://localhost:8080/",
          "height": 225,
          "referenced_widgets": [
            "e87e718918984e64ac4ffaab03485c19",
            "baec5dab639e405395da0e25d946425d",
            "29a6e5bdd74c4e4ebea36b5bbc377942",
            "5b91c17088cf400abe7ef594181cfac6",
            "d2051f08efcc4c75b866c6086bf5e966",
            "f6911823c406412f994e557fe163bb0f",
            "4894c2174a9f49c28acd6e1da7fa9305",
            "b1548a8774b44686bdaf6a1561f843e2",
            "07fafd7799c24080a9d907cf24d284df",
            "2a9c482c86d04ad186e500927d3cf7a0",
            "e9166c9de1e64697a86d1d6e3b0c9026"
          ]
        },
        "id": "KvtowZsqnbxC",
        "outputId": "a6205b3b-b576-4f6b-895c-59a2cc0bee2e"
      },
      "execution_count": 6,
      "outputs": [
        {
          "output_type": "stream",
          "name": "stdout",
          "text": [
            "Loading embedding model: all-MiniLM-L6-v2\n"
          ]
        },
        {
          "output_type": "stream",
          "name": "stderr",
          "text": [
            "/usr/local/lib/python3.11/dist-packages/huggingface_hub/utils/_auth.py:94: UserWarning: \n",
            "The secret `HF_TOKEN` does not exist in your Colab secrets.\n",
            "To authenticate with the Hugging Face Hub, create a token in your settings tab (https://huggingface.co/settings/tokens), set it as secret in your Google Colab and restart your session.\n",
            "You will be able to reuse this secret in all of your notebooks.\n",
            "Please note that authentication is recommended but still optional to access public models or datasets.\n",
            "  warnings.warn(\n"
          ]
        },
        {
          "output_type": "stream",
          "name": "stdout",
          "text": [
            "Computing embeddings for 1059 chunks...\n"
          ]
        },
        {
          "output_type": "display_data",
          "data": {
            "text/plain": [
              "Batches:   0%|          | 0/34 [00:00<?, ?it/s]"
            ],
            "application/vnd.jupyter.widget-view+json": {
              "version_major": 2,
              "version_minor": 0,
              "model_id": "e87e718918984e64ac4ffaab03485c19"
            }
          },
          "metadata": {}
        },
        {
          "output_type": "stream",
          "name": "stdout",
          "text": [
            "Computed 1059 embeddings with dimension 384\n"
          ]
        }
      ]
    },
    {
      "cell_type": "markdown",
      "source": [
        "# Phase 5: Create a Vector Store (ChromaDB)"
      ],
      "metadata": {
        "id": "WV8Y9uPVY_Ay"
      }
    },
    {
      "cell_type": "code",
      "source": [
        "def create_vector_store(chunks_with_embeddings, model_name=\"all-MiniLM-L6-v2\",\n",
        "                       collection_name=None, persist_directory=None):\n",
        "    \"\"\"\n",
        "    Create a vector store from embedded chunks.\n",
        "\n",
        "    Args:\n",
        "        chunks_with_embeddings (list): Document chunks with embeddings\n",
        "        model_name (str): Name of the embedding model\n",
        "        collection_name (str): Name for the Chroma collection\n",
        "        persist_directory (str): Directory to persist the database\n",
        "\n",
        "    Returns:\n",
        "        tuple: (Chroma client, Chroma collection)\n",
        "    \"\"\"\n",
        "    # Initialize Chroma client\n",
        "    if persist_directory:\n",
        "        print(f\"Initializing persistent Chroma client at: {persist_directory}\")\n",
        "        client = chromadb.PersistentClient(path=persist_directory)\n",
        "    else:\n",
        "        print(\"Initializing in-memory Chroma client\")\n",
        "        client = chromadb.Client()\n",
        "\n",
        "    # Generate collection name if not provided\n",
        "    if not collection_name:\n",
        "        collection_name = f\"python_for_kids_{int(time.time())}\"\n",
        "\n",
        "    # Set up embedding function\n",
        "    embedding_fn = embedding_functions.SentenceTransformerEmbeddingFunction(model_name=model_name)\n",
        "\n",
        "    # Create or get collection\n",
        "    try:\n",
        "        collection = client.get_collection(name=collection_name)\n",
        "        print(f\"Found existing collection: {collection_name}\")\n",
        "    except Exception:\n",
        "        collection = client.create_collection(\n",
        "            name=collection_name,\n",
        "            embedding_function=embedding_fn,\n",
        "            metadata={\"description\": \"Python programming content for children\",\n",
        "                     \"created_at\": time.strftime(\"%Y-%m-%d %H:%M:%S\")}\n",
        "        )\n",
        "        print(f\"Created new collection: {collection_name}\")\n",
        "\n",
        "    # Prepare data for Chroma\n",
        "    ids = [f\"chunk_{chunk['chunk_id']}\" for chunk in chunks_with_embeddings]\n",
        "    documents = [chunk['content'] for chunk in chunks_with_embeddings]\n",
        "    embeddings = [chunk['embedding'] for chunk in chunks_with_embeddings]\n",
        "    metadatas = [{\n",
        "        'url': chunk.get('url', ''),\n",
        "        'title': chunk.get('title', 'Untitled'),\n",
        "        'chunk_id': str(chunk.get('chunk_id', 0)),\n",
        "        'doc_type': chunk.get('doc_type', 'unknown'),\n",
        "        'word_count': str(chunk.get('word_count', 0)),\n",
        "    } for chunk in chunks_with_embeddings]\n",
        "\n",
        "    # Add data to collection\n",
        "    print(f\"Adding {len(ids)} documents to the collection...\")\n",
        "    collection.add(\n",
        "        ids=ids,\n",
        "        documents=documents,\n",
        "        metadatas=metadatas,\n",
        "        embeddings=embeddings\n",
        "    )\n",
        "\n",
        "    print(f\"Vector store created with {collection.count()} documents\")\n",
        "    return client, collection\n",
        "\n",
        "# Execute Phase 5\n",
        "persist_dir = \"web_scraped_data__/chroma_db\"\n",
        "client, collection = create_vector_store(\n",
        "    chunks_with_embeddings,\n",
        "    model_name=\"all-MiniLM-L6-v2\",\n",
        "    collection_name=\"python_for_kids\",\n",
        "    persist_directory=persist_dir\n",
        ")"
      ],
      "metadata": {
        "colab": {
          "base_uri": "https://localhost:8080/"
        },
        "id": "3rxnHPisngzt",
        "outputId": "cc557727-d6e3-47a2-99fc-aa5edfac18a2"
      },
      "execution_count": 7,
      "outputs": [
        {
          "output_type": "stream",
          "name": "stdout",
          "text": [
            "Initializing persistent Chroma client at: web_scraped_data__/chroma_db\n",
            "Found existing collection: python_for_kids\n",
            "Adding 1059 documents to the collection...\n",
            "Vector store created with 1059 documents\n"
          ]
        }
      ]
    },
    {
      "cell_type": "markdown",
      "source": [
        "# Phase 6: RAG System - Retrieval and Generation"
      ],
      "metadata": {
        "id": "XF4BNi9sZG9Y"
      }
    },
    {
      "cell_type": "code",
      "source": [
        "def retrieve_relevant_chunks(query, collection, n_results=5):\n",
        "    \"\"\"\n",
        "    Retrieve the most relevant chunks for a query.\n",
        "\n",
        "    Args:\n",
        "        query (str): User query\n",
        "        collection: ChromaDB collection\n",
        "        n_results (int): Number of chunks to retrieve\n",
        "\n",
        "    Returns:\n",
        "        list: Relevant chunks with metadata\n",
        "    \"\"\"\n",
        "    results = collection.query(\n",
        "        query_texts=[query],\n",
        "        n_results=n_results\n",
        "    )\n",
        "\n",
        "    retrieved_chunks = []\n",
        "    for i, (doc, metadata, distance) in enumerate(zip(\n",
        "        results['documents'][0],\n",
        "        results['metadatas'][0],\n",
        "        results['distances'][0]\n",
        "    )):\n",
        "        retrieved_chunks.append({\n",
        "            'content': doc,\n",
        "            'metadata': metadata,\n",
        "            'relevance': 1-distance,\n",
        "            'rank': i+1\n",
        "        })\n",
        "\n",
        "    return retrieved_chunks\n",
        "\n",
        "def format_context(chunks):\n",
        "    \"\"\"\n",
        "    Format retrieved chunks into a string for the LLM context.\n",
        "\n",
        "    Args:\n",
        "        chunks (list): Retrieved chunks\n",
        "\n",
        "    Returns:\n",
        "        str: Formatted context\n",
        "    \"\"\"\n",
        "    context_parts = [\n",
        "        f\"Source {i+1} [{chunk['metadata']['title']}]:\\n{chunk['content']}\\n\"\n",
        "        for i, chunk in enumerate(chunks)\n",
        "    ]\n",
        "    return \"\\n\".join(context_parts)\n",
        "\n",
        "def generate_answer(question, context, api_key=None, model=\"mistral-small\", max_tokens=500):\n",
        "    \"\"\"\n",
        "    Generate an answer using an LLM API based on context.\n",
        "\n",
        "    Args:\n",
        "        question (str): User question\n",
        "        context (str): Retrieved context\n",
        "        api_key (str): API key for Mistral or other LLM\n",
        "        model (str): Model identifier\n",
        "        max_tokens (int): Maximum tokens in response\n",
        "\n",
        "    Returns:\n",
        "        str: Generated answer\n",
        "    \"\"\"\n",
        "    if not api_key:\n",
        "        api_key = \"22C686MeYEWCtJZlh0rGqdQSnhPGPN9J\"  # Directly set API key\n",
        "\n",
        "    url = \"https://api.mistral.ai/v1/chat/completions\"\n",
        "\n",
        "    system_prompt = \"\"\"You are a helpful, friendly AI assistant designed to teach Python programming to children.\n",
        "    Your answers should be:\n",
        "    1. Simple and easy to understand for children\n",
        "    2. Encouraging and positive\n",
        "    3. Accurate and based only on the provided context\n",
        "    4. Include simple examples when appropriate\n",
        "\n",
        "    If you don't know the answer based on the context, say so politely and suggest where they might find more information.\"\"\"\n",
        "\n",
        "    user_prompt = f\"\"\"Please answer the following question about Python programming for kids.\n",
        "    Use ONLY the information in the context provided below.\n",
        "\n",
        "    CONTEXT:\n",
        "    {context}\n",
        "\n",
        "    QUESTION: {question}\"\"\"\n",
        "\n",
        "    headers = {\n",
        "        \"Content-Type\": \"application/json\",\n",
        "        \"Accept\": \"application/json\",\n",
        "        \"Authorization\": f\"Bearer {api_key}\"\n",
        "    }\n",
        "\n",
        "    payload = {\n",
        "        \"model\": model,\n",
        "        \"messages\": [\n",
        "            {\"role\": \"system\", \"content\": system_prompt},\n",
        "            {\"role\": \"user\", \"content\": user_prompt}\n",
        "        ],\n",
        "        \"temperature\": 0.5,\n",
        "        \"max_tokens\": max_tokens\n",
        "    }\n",
        "\n",
        "    try:\n",
        "        response = requests.post(url, headers=headers, data=json.dumps(payload))\n",
        "        response.raise_for_status()\n",
        "        result = response.json()\n",
        "        return result[\"choices\"][0][\"message\"][\"content\"]\n",
        "    except Exception as e:\n",
        "        print(f\"Error with LLM API: {str(e)}\")\n",
        "        return f\"\"\"\n",
        "        Error connecting to LLM API: {str(e)}\n",
        "\n",
        "        For this demo, here's a mock response:\n",
        "\n",
        "        Based on the context provided, Python variables are containers that store data values.\n",
        "        You can think of them like labeled boxes where you put different types of information.\n",
        "        For example, if you write 'name = \"Alex\"', you're creating a variable called 'name' that stores the word \"Alex\".\n",
        "        \"\"\"\n",
        "\n",
        "def rag_answer(question, collection, api_key=None, n_chunks=3):\n",
        "    \"\"\"\n",
        "    Complete RAG pipeline: retrieves context and generates answer.\n",
        "\n",
        "    Args:\n",
        "        question (str): User question\n",
        "        collection: ChromaDB collection\n",
        "        api_key (str): API key for LLM\n",
        "        n_chunks (int): Number of chunks to retrieve\n",
        "\n",
        "    Returns:\n",
        "        dict: Results including question, answer, and context\n",
        "    \"\"\"\n",
        "    print(f\"\\nProcessing question: {question}\")\n",
        "    print(\"Retrieving relevant context...\")\n",
        "    chunks = retrieve_relevant_chunks(question, collection, n_results=n_chunks)\n",
        "    context = format_context(chunks)\n",
        "    print(f\"Retrieved {len(chunks)} relevant chunks\")\n",
        "\n",
        "    print(\"Generating answer with LLM...\")\n",
        "    answer = generate_answer(question, context, api_key)\n",
        "\n",
        "    return {\n",
        "        'question': question,\n",
        "        'answer': answer,\n",
        "        'context_chunks': chunks,\n",
        "        'full_context': context,\n",
        "        'timestamp': time.strftime(\"%Y-%m-%d %H:%M:%S\")\n",
        "    }\n",
        "\n",
        "def display_rag_answer(result):\n",
        "    \"\"\"\n",
        "    Display RAG answer in a readable format.\n",
        "\n",
        "    Args:\n",
        "        result (dict): RAG answer result\n",
        "    \"\"\"\n",
        "    from IPython.display import display, Markdown\n",
        "\n",
        "    print(\"Question:\")\n",
        "    display(Markdown(f\"**{result['question']}**\"))\n",
        "\n",
        "    print(\"\\nRelevant Context:\")\n",
        "    structured_content = \"\"\n",
        "    for i, item in enumerate(result['context_chunks']):\n",
        "        structured_content += f\"### Source {i+1}: {item['metadata']['title']}\\n\"\n",
        "        structured_content += f\"**Relevance Score**: {item['relevance']:.4f}\\n\"\n",
        "        structured_content += f\"**Word Count**: {item['metadata']['word_count']}\\n\"\n",
        "        structured_content += f\"[Read More]({item['metadata']['url']})\\n\\n\"\n",
        "        structured_content += f\"{item['content'][:300]}...\\n\\n---\\n\\n\"\n",
        "    display(Markdown(structured_content))\n",
        "\n",
        "    print(\"\\nGenerated Answer:\")\n",
        "    display(Markdown(result['answer']))\n",
        "\n",
        "# Example usage\n",
        "def test_rag_system(collection, questions):\n",
        "    \"\"\"\n",
        "    Test the RAG system with a list of questions.\n",
        "\n",
        "    Args:\n",
        "        collection: ChromaDB collection\n",
        "        questions (list): List of test questions\n",
        "\n",
        "    Returns:\n",
        "        list: Results for each question\n",
        "    \"\"\"\n",
        "    results = []\n",
        "\n",
        "    for question in questions:\n",
        "        result = rag_answer(question, collection, api_key=\"22C686MeYEWCtJZlh0rGqdQSnhPGPN9J\")\n",
        "        display_rag_answer(result)\n",
        "        results.append(result)\n",
        "        print(\"\\n\" + \"=\"*80 + \"\\n\")\n",
        "\n",
        "    return results\n"
      ],
      "metadata": {
        "id": "kUR8zsh_Bfc7"
      },
      "execution_count": 8,
      "outputs": []
    },
    {
      "cell_type": "code",
      "source": [
        "question1 = \"How do for loops work in Python?\"\n",
        "result1 = rag_answer(question1, collection)\n",
        "display_rag_answer(result1)"
      ],
      "metadata": {
        "colab": {
          "base_uri": "https://localhost:8080/",
          "height": 842
        },
        "id": "v3VGh9qXEHDV",
        "outputId": "a7642b5e-d96a-4a74-b50d-445f5b0f26bd"
      },
      "execution_count": 9,
      "outputs": [
        {
          "output_type": "stream",
          "name": "stdout",
          "text": [
            "\n",
            "Processing question: How do for loops work in Python?\n",
            "Retrieving relevant context...\n",
            "Retrieved 3 relevant chunks\n",
            "Generating answer with LLM...\n",
            "Question:\n"
          ]
        },
        {
          "output_type": "display_data",
          "data": {
            "text/plain": [
              "<IPython.core.display.Markdown object>"
            ],
            "text/markdown": "**How do for loops work in Python?**"
          },
          "metadata": {}
        },
        {
          "output_type": "stream",
          "name": "stdout",
          "text": [
            "\n",
            "Relevant Context:\n"
          ]
        },
        {
          "output_type": "display_data",
          "data": {
            "text/plain": [
              "<IPython.core.display.Markdown object>"
            ],
            "text/markdown": "### Source 1: Python for Loop (With Examples)\n**Relevance Score**: 0.3759\n**Word Count**: 92\n[Read More](https://www.programiz.com/python-programming/for-loop)\n\nwe have created a list named languages. Since the list has three elements, the loop iterates 3 times. The for loop iterates over the elements of sequence in order, and in each iteration, the body of the loop is executed. The loop ends after the body of the loop is executed for the last item. In Pyth...\n\n---\n\n### Source 2: Tutorial_EDIT.pdf\n**Relevance Score**: 0.3053\n**Word Count**: 59\n[Read More](https://bugs.python.org/file47781/Tutorial_EDIT.pdf)\n\ndioms of the Python language, rather than implementing code using concepts common to other languages. For example, a common idiom in Python is to loop over all elements of an iterable using a forstatement. Many other languages don’t have this type of construct, so people unfamiliar with Python somet...\n\n---\n\n### Source 3: Python for Loop (With Examples)\n**Relevance Score**: 0.2853\n**Word Count**: 78\n[Read More](https://www.programiz.com/python-programming/for-loop)\n\ne to learn more. A loop can also contain another loop inside it. These loops are called nested loops. In a nested loop, the inner loop is executed once for each iteration of the outer loop. If we don't intend to use items of sequence inside the body of a loop, it is clearer to use the _ (underscore)...\n\n---\n\n"
          },
          "metadata": {}
        },
        {
          "output_type": "stream",
          "name": "stdout",
          "text": [
            "\n",
            "Generated Answer:\n"
          ]
        },
        {
          "output_type": "display_data",
          "data": {
            "text/plain": [
              "<IPython.core.display.Markdown object>"
            ],
            "text/markdown": "For loops in Python are used to repeat a block of code for a specific number of times or for each item in a sequence. They work by going through the elements of a sequence one by one, and for each element, they execute the code inside the loop. This is also called iterating over a sequence.\n\nHere's a simple example:\n\n```python\nlanguages = ['Python', 'Java', 'C++']\nfor language in languages:\n  print(language)\n```\n\nIn this example, the for loop will iterate over the elements in the `languages` list and print each one. The loop will run 3 times, once for each item in the list.\n\nYou can also use a for loop with the `range()` function to repeat a block of code a certain number of times. For example:\n\n```python\nfor i in range(4):\n  print('Hi')\n```\n\nIn this example, the loop will run 4 times and print 'Hi' each time.\n\nAnother concept with for loops is nested loops. This is when you have a loop inside another loop. The inner loop runs once for each iteration of the outer loop.\n\nI hope this helps! Let me know if you have any other questions."
          },
          "metadata": {}
        }
      ]
    },
    {
      "cell_type": "code",
      "source": [
        "question2 = \"what is if conditions in Python?\"\n",
        "result2 = rag_answer(question2, collection)\n",
        "display_rag_answer(result2)\n"
      ],
      "metadata": {
        "colab": {
          "base_uri": "https://localhost:8080/",
          "height": 771
        },
        "id": "kESkrmHyHe1o",
        "outputId": "ebbec717-c0fc-40db-beee-8fdc3ac421c1"
      },
      "execution_count": 10,
      "outputs": [
        {
          "output_type": "stream",
          "name": "stdout",
          "text": [
            "\n",
            "Processing question: what is if conditions in Python?\n",
            "Retrieving relevant context...\n",
            "Retrieved 3 relevant chunks\n",
            "Generating answer with LLM...\n",
            "Question:\n"
          ]
        },
        {
          "output_type": "display_data",
          "data": {
            "text/plain": [
              "<IPython.core.display.Markdown object>"
            ],
            "text/markdown": "**what is if conditions in Python?**"
          },
          "metadata": {}
        },
        {
          "output_type": "stream",
          "name": "stdout",
          "text": [
            "\n",
            "Relevant Context:\n"
          ]
        },
        {
          "output_type": "display_data",
          "data": {
            "text/plain": [
              "<IPython.core.display.Markdown object>"
            ],
            "text/markdown": "### Source 1: Python if, if...else Statement (With Examples)\n**Relevance Score**: 0.4418\n**Word Count**: 88\n[Read More](https://www.programiz.com/python-programming/if-elif-else)\n\nherefore, the body of if is executed. If user enters -2, the condition number > 0 evaluates to False. Therefore, the body of if is skipped from execution. Python uses indentation to define a block of code, such as the body of an if statement. For example, Here, the body of if has two statements. We ...\n\n---\n\n### Source 2: Python if, if...else Statement (With Examples)\n**Relevance Score**: 0.4382\n**Word Count**: 75\n[Read More](https://www.programiz.com/python-programming/if-elif-else)\n\nstatement. For example, In certain situations, the if statement can be simplified into a single line. For example, This one-liner approach retains the same functionality but in a more concise format. Python doesn't have a ternary operator. However, we can use if...else to work like a ternary operato...\n\n---\n\n### Source 3: Python if, if...else Statement (With Examples)\n**Relevance Score**: 0.4077\n**Word Count**: 60\n[Read More](https://www.programiz.com/python-programming/if-elif-else)\n\nn use logical operators such as and and or to create complex conditions to work with an if statement. Here, we used the logical operator and to add two conditions in the if statement. We also used >= (comparison operator) to compare two values. Logical and comparison operators are often used with if...\n\n---\n\n"
          },
          "metadata": {}
        },
        {
          "output_type": "stream",
          "name": "stdout",
          "text": [
            "\n",
            "Generated Answer:\n"
          ]
        },
        {
          "output_type": "display_data",
          "data": {
            "text/plain": [
              "<IPython.core.display.Markdown object>"
            ],
            "text/markdown": "Sure, I'd be happy to help explain if conditions in Python!\n\nIn Python, if conditions are used to make decisions in your code based on whether a certain condition is true or false. The syntax for a basic if condition looks like this:\n```python\nif condition:\n    # code to be executed if condition is true\n```\nFor example, you could use an if condition to check if a user's age is greater than 18, like this:\n```python\nage = 22\nif age > 18:\n    print(\"You are an adult.\")\n```\nIn this example, the condition `age > 18` is true, so the code inside the if block (the `print` statement) is executed.\n"
          },
          "metadata": {}
        }
      ]
    },
    {
      "cell_type": "code",
      "source": [
        "question3 = \"What are variables in Python?\"\n",
        "result3 = rag_answer(question3, collection)\n",
        "display_rag_answer(result3)"
      ],
      "metadata": {
        "colab": {
          "base_uri": "https://localhost:8080/",
          "height": 842
        },
        "id": "tp9tUDnfH9kx",
        "outputId": "bebbf3ba-e8a2-47d0-a526-3aff4fdf2de2"
      },
      "execution_count": 11,
      "outputs": [
        {
          "output_type": "stream",
          "name": "stdout",
          "text": [
            "\n",
            "Processing question: What are variables in Python?\n",
            "Retrieving relevant context...\n",
            "Retrieved 3 relevant chunks\n",
            "Generating answer with LLM...\n",
            "Question:\n"
          ]
        },
        {
          "output_type": "display_data",
          "data": {
            "text/plain": [
              "<IPython.core.display.Markdown object>"
            ],
            "text/markdown": "**What are variables in Python?**"
          },
          "metadata": {}
        },
        {
          "output_type": "stream",
          "name": "stdout",
          "text": [
            "\n",
            "Relevant Context:\n"
          ]
        },
        {
          "output_type": "display_data",
          "data": {
            "text/plain": [
              "<IPython.core.display.Markdown object>"
            ],
            "text/markdown": "### Source 1: Python Variables and Literals (With Examples)\n**Relevance Score**: 0.4776\n**Word Count**: 76\n[Read More](https://www.programiz.com/python-programming/variables-constants-literals)\n\nLearn Python practically and Get Certified. Created with over a decade of experience and thousands of feedback. Learn Python practically and Get Certified. In the previous tutorial you learned about Python comments. Now, let's learn about variables and literals in Python. In programming, a variable ...\n\n---\n\n### Source 2: Tutorial_EDIT.pdf\n**Relevance Score**: 0.2726\n**Word Count**: 35\n[Read More](https://bugs.python.org/file47781/Tutorial_EDIT.pdf)\n\nntaining Python deﬁnitions and statements. The ﬁle name is the module name with the suﬃx .pyappended. Within a module, the module’s name (as a string) is available as the value of the global variable __name__ ...\n\n---\n\n### Source 3: Tutorial_EDIT.pdf\n**Relevance Score**: 0.2193\n**Word Count**: 178\n[Read More](https://bugs.python.org/file47781/Tutorial_EDIT.pdf)\n\n2.2 The Interpreter and Its Environment . . . . . . . . . . . . . . . . . . . . . . . . . . . . . . . 6 3 An Informal Introduction to Python 9 3.1 Using Python as a Calculator . . . . . . . . . . . . . . . . . . . . . . . . . . . . . . . . . . . . 9 3.2 First Steps Towards Programming . . . . . . . ...\n\n---\n\n"
          },
          "metadata": {}
        },
        {
          "output_type": "stream",
          "name": "stdout",
          "text": [
            "\n",
            "Generated Answer:\n"
          ]
        },
        {
          "output_type": "display_data",
          "data": {
            "text/plain": [
              "<IPython.core.display.Markdown object>"
            ],
            "text/markdown": "Sure thing! I'd be happy to explain variables in Python!\n\nIn Python, a variable is like a container that holds data. You can think of it as a label for a piece of data that you want to use in your program. For example, you might have a variable called \"age\" that holds the data representing how old someone is.\n\nYou create a variable in Python by using the assignment operator (=), like this:\n```makefile\nage = 10\n```\nIn this example, we've created a variable called \"age\" and assigned it the value of 10. Now, whenever we use the variable \"age\" in our program, it will have the value of 10.\n\nIt's important to note that variables in Python are flexible - you can assign a variable to hold one type of data, and then later assign it to hold a different type of data. For example, you could assign the variable \"age\" to hold a number, and then later assign it to hold a string:\n```makefile\nage = 10\nage = \"ten\"\n```\nIn this example, the variable \"age\" was first assigned the value of 10 (a number), and then later assigned the value of \"ten\" (a string).\n\nI hope that helps! Let me know if you have any other questions about variables in Python."
          },
          "metadata": {}
        }
      ]
    },
    {
      "cell_type": "code",
      "source": [
        "question4 = \"What types of numbers can I use in Python?\"\n",
        "result4 = rag_answer(question4, collection)\n",
        "display_rag_answer(result4)"
      ],
      "metadata": {
        "colab": {
          "base_uri": "https://localhost:8080/",
          "height": 684
        },
        "id": "UrFz1UuiIlPT",
        "outputId": "e20846a5-648f-4530-b3ed-3192ec4bc78a"
      },
      "execution_count": 12,
      "outputs": [
        {
          "output_type": "stream",
          "name": "stdout",
          "text": [
            "\n",
            "Processing question: What types of numbers can I use in Python?\n",
            "Retrieving relevant context...\n",
            "Retrieved 3 relevant chunks\n",
            "Generating answer with LLM...\n",
            "Question:\n"
          ]
        },
        {
          "output_type": "display_data",
          "data": {
            "text/plain": [
              "<IPython.core.display.Markdown object>"
            ],
            "text/markdown": "**What types of numbers can I use in Python?**"
          },
          "metadata": {}
        },
        {
          "output_type": "stream",
          "name": "stdout",
          "text": [
            "\n",
            "Relevant Context:\n"
          ]
        },
        {
          "output_type": "display_data",
          "data": {
            "text/plain": [
              "<IPython.core.display.Markdown object>"
            ],
            "text/markdown": "### Source 1: Python Numbers, Type Conversion and Mathematics (With Examples)\n**Relevance Score**: 0.5191\n**Word Count**: 68\n[Read More](https://www.programiz.com/python-programming/numbers)\n\nLearn Python practically and Get Certified. Created with over a decade of experience and thousands of feedback. Learn Python practically and Get Certified. The number data types are used to store the numeric values. Python supports integers, floating-point numbers and complex numbers. They are defin...\n\n---\n\n### Source 2: Python Numbers, Type Conversion and Mathematics (With Examples)\n**Relevance Score**: 0.4171\n**Word Count**: 83\n[Read More](https://www.programiz.com/python-programming/numbers)\n\nwe have created three variables named num1, num2 and num3 with values 5, 5.42, and 8+2j respectively. We have also used the type() function to know which class a certain variable belongs to. Since, The numbers we deal with every day are of the decimal (base 10) number system. But computer programmer...\n\n---\n\n### Source 3: Tutorial_EDIT.pdf\n**Relevance Score**: 0.3576\n**Word Count**: 40\n[Read More](https://bugs.python.org/file47781/Tutorial_EDIT.pdf)\n\n numbers (e.g. 2,4,20) have type int, the ones with a fractional part (e.g. 5.0,1.6) have type float. We will see more about numeric types later in the tutorial. 9 Python Tutorial, Release 3.7.0 Division ( /) always returns a ﬂoat...\n\n---\n\n"
          },
          "metadata": {}
        },
        {
          "output_type": "stream",
          "name": "stdout",
          "text": [
            "\n",
            "Generated Answer:\n"
          ]
        },
        {
          "output_type": "display_data",
          "data": {
            "text/plain": [
              "<IPython.core.display.Markdown object>"
            ],
            "text/markdown": "In Python, you can use different types of numbers! You can use integers for whole numbers, like 3 or 12. If a number has a decimal point, like 5.0 or 1.6, we call it a float. There are also other number systems you can use, such as binary, hexadecimal, and octal, but you need to place a prefix before those numbers. For example, you can use 0b for binary, 0x for hexadecimal, and 0o for octal.\n\nHere's a fun fact: When you divide two numbers in Python, even if they are both integers, you will get a float as the result! For example, 5 / 2 will give you 2.5, not 2.\n\nSo, to answer your question, you can use integers (int), floats (with a decimal point), and even numbers from other number systems in Python! Isn't that cool? Now, go ahead and try using different types of numbers in your Python programs!"
          },
          "metadata": {}
        }
      ]
    },
    {
      "cell_type": "code",
      "source": [
        "question5 = \"How can I make a simple game in Python?\"\n",
        "result5 = rag_answer(question5, collection)\n",
        "display_rag_answer(result5)"
      ],
      "metadata": {
        "colab": {
          "base_uri": "https://localhost:8080/",
          "height": 793
        },
        "id": "ovz2-i9XJGyT",
        "outputId": "804388ca-6229-4fd5-f6c0-394c5a45ec6f"
      },
      "execution_count": 13,
      "outputs": [
        {
          "output_type": "stream",
          "name": "stdout",
          "text": [
            "\n",
            "Processing question: How can I make a simple game in Python?\n",
            "Retrieving relevant context...\n",
            "Retrieved 3 relevant chunks\n",
            "Generating answer with LLM...\n",
            "Question:\n"
          ]
        },
        {
          "output_type": "display_data",
          "data": {
            "text/plain": [
              "<IPython.core.display.Markdown object>"
            ],
            "text/markdown": "**How can I make a simple game in Python?**"
          },
          "metadata": {}
        },
        {
          "output_type": "stream",
          "name": "stdout",
          "text": [
            "\n",
            "Relevant Context:\n"
          ]
        },
        {
          "output_type": "display_data",
          "data": {
            "text/plain": [
              "<IPython.core.display.Markdown object>"
            ],
            "text/markdown": "### Source 1: Tutorial_EDIT.pdf\n**Relevance Score**: -0.0033\n**Word Count**: 63\n[Read More](https://bugs.python.org/file47781/Tutorial_EDIT.pdf)\n\nare best at moving around ﬁles and changing text data, not well-suited for GUI applications or games. You could write a C/C++/Java program, but it can take a lot of development time to get even a ﬁrst-draft program. Python is simpler to use, available on Windows, Mac OS X, and Unix operating systems...\n\n---\n\n### Source 2: Python Variables and Literals (With Examples)\n**Relevance Score**: -0.0154\n**Word Count**: 76\n[Read More](https://www.programiz.com/python-programming/variables-constants-literals)\n\nLearn Python practically and Get Certified. Created with over a decade of experience and thousands of feedback. Learn Python practically and Get Certified. In the previous tutorial you learned about Python comments. Now, let's learn about variables and literals in Python. In programming, a variable ...\n\n---\n\n### Source 3: Tutorial_EDIT.pdf\n**Relevance Score**: -0.0298\n**Word Count**: 69\n[Read More](https://bugs.python.org/file47781/Tutorial_EDIT.pdf)\n\ntation instead of beginning and ending brackets; •no variable or argument declarations are necessary. Python is extensible : if you know how to program in C it is easy to add a new built-in function or module to the interpreter, either to perform critical operations at maximum speed, or to link Pyth...\n\n---\n\n"
          },
          "metadata": {}
        },
        {
          "output_type": "stream",
          "name": "stdout",
          "text": [
            "\n",
            "Generated Answer:\n"
          ]
        },
        {
          "output_type": "display_data",
          "data": {
            "text/plain": [
              "<IPython.core.display.Markdown object>"
            ],
            "text/markdown": "To make a simple game in Python, you can use a module called \"turtle\" that comes with Python! It's great for creating basic graphics and games. Here's a simple example of moving a turtle around the screen:\n\n1. Open your Python application.\n2. Import the turtle module: `import turtle`\n3. Create a turtle screen: `screen = turtle.Screen()`\n4. Create a turtle object: `my_turtle = turtle.Turtle()`\n5. Make the turtle move: `my_turtle.forward(100)`\n\nYou can also change the turtle's direction, speed, and appearance. To learn more, search for \"Python turtle module\" and explore the many examples and tutorials available.\n\nRemember, when making a game, you'll want to create more complex interactions, like user input (key presses) and game logic (rules). For those features, you might need to learn more about Python, but this turtle module is a fun way to start!"
          },
          "metadata": {}
        }
      ]
    }
  ]
}